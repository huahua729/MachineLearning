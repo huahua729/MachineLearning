{
 "cells": [
  {
   "cell_type": "code",
   "execution_count": 1,
   "metadata": {},
   "outputs": [],
   "source": [
    "import matplotlib.pyplot as plt\n",
    "import numpy as np"
   ]
  },
  {
   "cell_type": "markdown",
   "metadata": {},
   "source": [
    "## 激活函数"
   ]
  },
  {
   "cell_type": "markdown",
   "metadata": {},
   "source": [
    "1. 什么是激活函数\n",
    "2. 激活函数的用途\n",
    "3. 有哪些激活函数\n",
    "4. 如何应用激活函数"
   ]
  },
  {
   "cell_type": "markdown",
   "metadata": {},
   "source": [
    "## 什么是激活函数"
   ]
  },
  {
   "cell_type": "code",
   "execution_count": 2,
   "metadata": {},
   "outputs": [],
   "source": [
    "from IPython.display import Image "
   ]
  },
  {
   "cell_type": "code",
   "execution_count": 3,
   "metadata": {},
   "outputs": [],
   "source": [
    "# Image(\"activate_function_1.png\")"
   ]
  },
  {
   "cell_type": "markdown",
   "metadata": {},
   "source": [
    "####  激活函数： 将所有的输入信号变成输出信号的"
   ]
  },
  {
   "cell_type": "markdown",
   "metadata": {},
   "source": [
    "神经网络中的每个神经元节点接受上一个神经元节点的输入值，并传给下一个神经元，输入层节点会产给下一层（hidden layer or output layer).\n",
    "上层节点的输出和下层节点的输入叫做激活函数(activation function)"
   ]
  },
  {
   "cell_type": "markdown",
   "metadata": {},
   "source": [
    "# 激活函数的用途"
   ]
  },
  {
   "cell_type": "markdown",
   "metadata": {},
   "source": [
    "如果不用激活函数(f(x)=x),最初始的情况是每一层的节点与下一层的节点是线性连接，很容易被验证，这就是原始的感知机(perceptron).\n",
    "所以引用非线性函数作为激活函数，这样神经网络的功能会更加强大了。"
   ]
  },
  {
   "cell_type": "markdown",
   "metadata": {},
   "source": [
    "# 有哪些激活函数"
   ]
  },
  {
   "cell_type": "markdown",
   "metadata": {},
   "source": [
    "早期的激活函数主要有 sigmoid 函数，tanh函数\n",
    "近些年出来了Relu 函数，在多层神经网络中应用较多"
   ]
  },
  {
   "cell_type": "markdown",
   "metadata": {},
   "source": [
    "#### 阶梯函数 &  sigmoid 函数"
   ]
  },
  {
   "cell_type": "code",
   "execution_count": 4,
   "metadata": {},
   "outputs": [],
   "source": [
    "def step_function(x):                    # 阶梯函数\n",
    "    return np.array(x>0,dtype=np.int)"
   ]
  },
  {
   "cell_type": "code",
   "execution_count": 5,
   "metadata": {},
   "outputs": [],
   "source": [
    "def sigmoid(x):                          # sigmoid 函数\n",
    "    return 1/(1 + np.exp(-x))"
   ]
  },
  {
   "cell_type": "code",
   "execution_count": 6,
   "metadata": {},
   "outputs": [],
   "source": [
    "x = np.arange(-5.0,5.0,0.1)\n",
    "y_1 = step_function(x)\n",
    "y_2 = sigmoid(x)"
   ]
  },
  {
   "cell_type": "code",
   "execution_count": 7,
   "metadata": {},
   "outputs": [
    {
     "data": {
      "text/plain": [
       "<matplotlib.legend.Legend at 0x1aa4d51c748>"
      ]
     },
     "execution_count": 7,
     "metadata": {},
     "output_type": "execute_result"
    },
    {
     "data": {
      "image/png": "[encoded data removed]",
      "text/plain": [
       "<Figure size 432x288 with 1 Axes>"
      ]
     },
     "metadata": {
      "needs_background": "light"
     },
     "output_type": "display_data"
    }
   ],
   "source": [
    "plt.plot(x,y_1)\n",
    "plt.plot(x,y_2)\n",
    "plt.legend(['step_functon','sigmoid'])"
   ]
  },
  {
   "cell_type": "markdown",
   "metadata": {},
   "source": [
    "perceptron应用的阶梯函数的输出结果是0或1  \\\n",
    "由于阶梯函数不能灵活的表达输出的结果，并且sigmoid函数的灵活性给神经网络的学习带来重要的作用"
   ]
  },
  {
   "cell_type": "markdown",
   "metadata": {},
   "source": [
    "#### relu 函数"
   ]
  },
  {
   "cell_type": "markdown",
   "metadata": {},
   "source": [
    "relu函数主要是取最大值，但是并不是全区间可导的，但是我们可以取sub_gradient \\\n",
    "relu虽然简单，但却是近几年的重要成果，有一下几大优点  \\\n",
    "\\\n",
    "1）解决了gradient vanishing问题（在正区间） \\\n",
    "2）计算速度非常快，只需要判断输入时候大于0  \\\n",
    "3）收敛速度快于sigmoid和tanh  \\"
   ]
  },
  {
   "cell_type": "markdown",
   "metadata": {},
   "source": [
    "relu 也有以下几个注意的问题\n",
    "1）relu的输出不是zero-centered\n",
    "2）Dead Relu Problem, 指的是某神经元可能永远不会被激活，导致相应的的参数永远不能被更新。有两个主要原因可能导致这种问题产生：\\\n",
    "(1) 非常不幸的参数初始化，这种情况比较少见 \\\n",
    "(2) learning rate 太高导致在训练过程中参数更新太大，不幸使网络进入这种状态。 \\\n",
    "解决方法可以采用Xavier初始方法， 以避免将learning rate设置太大或使用adagrad等自动调节learning rate的算法 \n"
   ]
  },
  {
   "cell_type": "code",
   "execution_count": 8,
   "metadata": {},
   "outputs": [],
   "source": [
    "def relu(x):\n",
    "    return np.maximum(0,x)"
   ]
  },
  {
   "cell_type": "code",
   "execution_count": 9,
   "metadata": {},
   "outputs": [],
   "source": [
    "y_3 = relu(x)"
   ]
  },
  {
   "cell_type": "code",
   "execution_count": 10,
   "metadata": {},
   "outputs": [
    {
     "data": {
      "text/plain": [
       "<matplotlib.legend.Legend at 0x1aa4d59d240>"
      ]
     },
     "execution_count": 10,
     "metadata": {},
     "output_type": "execute_result"
    },
    {
     "data": {
      "image/png": "[encoded data removed]",
      "text/plain": [
       "<Figure size 432x288 with 1 Axes>"
      ]
     },
     "metadata": {
      "needs_background": "light"
     },
     "output_type": "display_data"
    }
   ],
   "source": [
    "plt.plot(x,y_3)\n",
    "plt.legend(['relu'])"
   ]
  },
  {
   "cell_type": "markdown",
   "metadata": {},
   "source": [
    "# 如何应用激活函数"
   ]
  },
  {
   "cell_type": "markdown",
   "metadata": {},
   "source": [
    "凭大家的经验吧， 对应不同的数据每个激活函数的效果都不一致  \n",
    "\n",
    "但是目前最受欢迎的是 relu > tanh > sigmoid"
   ]
  },
  {
   "cell_type": "code",
   "execution_count": null,
   "metadata": {},
   "outputs": [],
   "source": []
  }
 ],
 "metadata": {
  "kernelspec": {
   "display_name": "Python 3",
   "language": "python",
   "name": "python3"
  },
  "language_info": {
   "codemirror_mode": {
    "name": "ipython",
    "version": 3
   },
   "file_extension": ".py",
   "mimetype": "text/x-python",
   "name": "python",
   "nbconvert_exporter": "python",
   "pygments_lexer": "ipython3",
   "version": "3.7.3"
  }
 },
 "nbformat": 4,
 "nbformat_minor": 2
}
